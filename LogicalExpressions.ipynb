{
 "metadata": {
  "language_info": {
   "codemirror_mode": {
    "name": "ipython",
    "version": 3
   },
   "file_extension": ".py",
   "mimetype": "text/x-python",
   "name": "python",
   "nbconvert_exporter": "python",
   "pygments_lexer": "ipython3",
   "version": "3.9.1-final"
  },
  "orig_nbformat": 2,
  "kernelspec": {
   "name": "python3",
   "display_name": "Python 3.9.1 64-bit",
   "metadata": {
    "interpreter": {
     "hash": "bdbbb6732f68ae60e4c34d8feb933a3f64f815aefa2bfc2979a87c07b6b7621b"
    }
   }
  }
 },
 "nbformat": 4,
 "nbformat_minor": 2,
 "cells": [
  {
   "cell_type": "code",
   "execution_count": 1,
   "metadata": {},
   "outputs": [],
   "source": [
    "TV = [True, False]"
   ]
  },
  {
   "cell_type": "code",
   "execution_count": 2,
   "metadata": {},
   "outputs": [
    {
     "output_type": "stream",
     "name": "stdout",
     "text": [
      "P    Not P\nTrue False\nFalse True\n"
     ]
    }
   ],
   "source": [
    "print(\"P   \", \"Not P\")\n",
    "for P in TV:\n",
    "    print(P, not P)"
   ]
  },
  {
   "cell_type": "code",
   "execution_count": 4,
   "metadata": {},
   "outputs": [
    {
     "output_type": "stream",
     "name": "stdout",
     "text": [
      "P    Q    P and Q\nTrue True True\nTrue False False\nFalse True False\nFalse False False\n"
     ]
    }
   ],
   "source": [
    "print(\"P   \", \"Q   \", \"P and Q\")\n",
    "for P in TV:\n",
    "    for Q in TV:\n",
    "        print(P, Q, P and Q)"
   ]
  },
  {
   "cell_type": "code",
   "execution_count": 5,
   "metadata": {},
   "outputs": [
    {
     "output_type": "stream",
     "name": "stdout",
     "text": [
      "P    Q    P or Q\nTrue True True\nTrue False True\nFalse True True\nFalse False False\n"
     ]
    }
   ],
   "source": [
    "print(\"P   \", \"Q   \", \"P or Q\")\n",
    "for P in TV:\n",
    "    for Q in TV:\n",
    "        print(P, Q, P or Q)"
   ]
  },
  {
   "cell_type": "code",
   "execution_count": 16,
   "metadata": {},
   "outputs": [
    {
     "output_type": "stream",
     "name": "stdout",
     "text": [
      "True True False False\nTrue False True True\nFalse True True True\nFalse False True True\n"
     ]
    }
   ],
   "source": [
    "for P in TV:\n",
    "    for Q in TV:\n",
    "        print(P, Q, not(P and Q), not P or not Q)"
   ]
  },
  {
   "cell_type": "code",
   "execution_count": 30,
   "metadata": {},
   "outputs": [
    {
     "output_type": "execute_result",
     "data": {
      "text/plain": [
       "True"
      ]
     },
     "metadata": {},
     "execution_count": 30
    }
   ],
   "source": [
    "exp1 = []\n",
    "exp2 = []\n",
    "for P in TV:\n",
    "    for Q in TV:\n",
    "        exp1.append(not(P and Q))\n",
    "        exp2.append(not P or not Q)\n",
    "exp1 == exp2"
   ]
  },
  {
   "cell_type": "code",
   "execution_count": 31,
   "metadata": {},
   "outputs": [
    {
     "output_type": "execute_result",
     "data": {
      "text/plain": [
       "True"
      ]
     },
     "metadata": {},
     "execution_count": 31
    }
   ],
   "source": [
    "exp1 = []\n",
    "exp2 = []\n",
    "for P in TV:\n",
    "    for Q in TV:\n",
    "        exp1.append(not(P or Q))\n",
    "        exp2.append(not P and not Q)\n",
    "exp1 == exp2"
   ]
  },
  {
   "cell_type": "code",
   "execution_count": 32,
   "metadata": {},
   "outputs": [
    {
     "output_type": "execute_result",
     "data": {
      "text/plain": [
       "True"
      ]
     },
     "metadata": {},
     "execution_count": 32
    }
   ],
   "source": [
    "exp1 = []\n",
    "exp2 = []\n",
    "for P in TV:\n",
    "    for Q in TV:\n",
    "        for R in TV:\n",
    "            exp1.append(P and (Q and R))\n",
    "            exp2.append((P and Q) and R)\n",
    "exp1 == exp2"
   ]
  },
  {
   "cell_type": "code",
   "execution_count": 33,
   "metadata": {},
   "outputs": [
    {
     "output_type": "execute_result",
     "data": {
      "text/plain": [
       "True"
      ]
     },
     "metadata": {},
     "execution_count": 33
    }
   ],
   "source": [
    "exp1 = []\n",
    "exp2 = []\n",
    "for P in TV:\n",
    "    for Q in TV:\n",
    "        for R in TV:\n",
    "            exp1.append(P and (Q or R))\n",
    "            exp2.append((P and Q) or (P and R))\n",
    "exp1 == exp2"
   ]
  },
  {
   "cell_type": "code",
   "execution_count": 35,
   "metadata": {},
   "outputs": [
    {
     "output_type": "execute_result",
     "data": {
      "text/plain": [
       "True"
      ]
     },
     "metadata": {},
     "execution_count": 35
    }
   ],
   "source": [
    "exp1 = []\n",
    "exp2 = []\n",
    "for P in TV:\n",
    "    for Q in TV:\n",
    "        for R in TV:\n",
    "            exp1.append(P or (Q and R))\n",
    "            exp2.append((P or Q) and (P or R))\n",
    "exp1 == exp2"
   ]
  },
  {
   "cell_type": "code",
   "execution_count": 37,
   "metadata": {},
   "outputs": [],
   "source": [
    "def compare(f, g):\n",
    "    TV = [True, False]\n",
    "    for P in TV:\n",
    "        for Q in TV:\n",
    "            exp1.append(f(P, Q))\n",
    "            exp2.append(g(P, Q))\n",
    "    return exp1 == exp2"
   ]
  },
  {
   "cell_type": "code",
   "execution_count": 38,
   "metadata": {},
   "outputs": [
    {
     "output_type": "execute_result",
     "data": {
      "text/plain": [
       "True"
      ]
     },
     "metadata": {},
     "execution_count": 38
    }
   ],
   "source": [
    "def f1(a, b):\n",
    "    return not a and not b\n",
    "def f2(c, d):\n",
    "    return not(c or d)\n",
    "compare(f1, f2)"
   ]
  },
  {
   "cell_type": "code",
   "execution_count": 39,
   "metadata": {},
   "outputs": [
    {
     "output_type": "stream",
     "name": "stdout",
     "text": [
      "23\n"
     ]
    }
   ],
   "source": [
    "print(3 + (4 * 5))"
   ]
  },
  {
   "cell_type": "code",
   "execution_count": 40,
   "metadata": {},
   "outputs": [
    {
     "output_type": "stream",
     "name": "stdout",
     "text": [
      "56\n"
     ]
    }
   ],
   "source": [
    "print((3 + 4) * (3 + 5))"
   ]
  },
  {
   "cell_type": "code",
   "execution_count": null,
   "metadata": {},
   "outputs": [],
   "source": []
  }
 ]
}