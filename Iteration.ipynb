{
 "metadata": {
  "language_info": {
   "codemirror_mode": {
    "name": "ipython",
    "version": 3
   },
   "file_extension": ".py",
   "mimetype": "text/x-python",
   "name": "python",
   "nbconvert_exporter": "python",
   "pygments_lexer": "ipython3",
   "version": "3.9.1-final"
  },
  "orig_nbformat": 2,
  "kernelspec": {
   "name": "python3",
   "display_name": "Python 3.9.1 64-bit",
   "metadata": {
    "interpreter": {
     "hash": "bdbbb6732f68ae60e4c34d8feb933a3f64f815aefa2bfc2979a87c07b6b7621b"
    }
   }
  }
 },
 "nbformat": 4,
 "nbformat_minor": 2,
 "cells": [
  {
   "cell_type": "code",
   "execution_count": 1,
   "metadata": {},
   "outputs": [
    {
     "output_type": "stream",
     "name": "stdout",
     "text": [
      "1\n2\n3\n4\n5\n"
     ]
    }
   ],
   "source": [
    "i = 0\n",
    "while i < 5:\n",
    "    i = i + 1\n",
    "    print(i)"
   ]
  },
  {
   "source": [
    "2nd Variation"
   ],
   "cell_type": "markdown",
   "metadata": {}
  },
  {
   "cell_type": "code",
   "execution_count": 2,
   "metadata": {},
   "outputs": [
    {
     "output_type": "stream",
     "name": "stdout",
     "text": [
      "1\n2\n3\n4\n5\n"
     ]
    }
   ],
   "source": [
    "i = 1\n",
    "while i <= 5:\n",
    "    print(i)\n",
    "    i = i + 1\n"
   ]
  },
  {
   "source": [
    "3rd Variation"
   ],
   "cell_type": "markdown",
   "metadata": {}
  },
  {
   "cell_type": "code",
   "execution_count": 3,
   "metadata": {},
   "outputs": [
    {
     "output_type": "stream",
     "name": "stdout",
     "text": [
      "0\n1\n2\n3\n4\n"
     ]
    }
   ],
   "source": [
    "i = 0\n",
    "while i < 5:\n",
    "    print(i)\n",
    "    i = i + 1"
   ]
  },
  {
   "source": [
    "*Total of 8 variations (3 choices with 2 possibilities)*"
   ],
   "cell_type": "markdown",
   "metadata": {}
  },
  {
   "source": [
    "### Break"
   ],
   "cell_type": "markdown",
   "metadata": {}
  },
  {
   "cell_type": "code",
   "execution_count": 4,
   "metadata": {},
   "outputs": [
    {
     "output_type": "stream",
     "name": "stdout",
     "text": [
      "0 0\n1 1\n2 4\n"
     ]
    }
   ],
   "source": [
    "for i in range(5):\n",
    "    j = i**2\n",
    "    if i == 3:\n",
    "        break\n",
    "    print(i,j)"
   ]
  },
  {
   "source": [
    "### Continue"
   ],
   "cell_type": "markdown",
   "metadata": {}
  },
  {
   "cell_type": "code",
   "execution_count": 5,
   "metadata": {},
   "outputs": [
    {
     "output_type": "stream",
     "name": "stdout",
     "text": [
      "0 0\n1 1\n2 4\n4 16\n"
     ]
    }
   ],
   "source": [
    "for i in range(5):\n",
    "    j = i**2\n",
    "    if i == 3:\n",
    "        continue\n",
    "    print(i,j)"
   ]
  },
  {
   "source": [
    "Prompt a user to provide an integer. If the user gives an inappropriate response, give the use another chance. There is no limit to the possible number of chances."
   ],
   "cell_type": "markdown",
   "metadata": {}
  },
  {
   "cell_type": "code",
   "execution_count": 6,
   "metadata": {},
   "outputs": [
    {
     "output_type": "stream",
     "name": "stdout",
     "text": [
      "Tom\n"
     ]
    }
   ],
   "source": [
    "while True:\n",
    "    str_input = input(\"Enter an integer: \")\n",
    "    try:\n",
    "        int_input = int(str_input)\n",
    "        break\n",
    "    except:\n",
    "        print(\"Enter a valid integer\")\n",
    "print(\"Int:\", int_input)"
   ]
  },
  {
   "source": [
    "### Lists"
   ],
   "cell_type": "markdown",
   "metadata": {}
  },
  {
   "cell_type": "code",
   "execution_count": 7,
   "metadata": {},
   "outputs": [
    {
     "output_type": "stream",
     "name": "stdout",
     "text": [
      "Tom\nDick\n3\n"
     ]
    }
   ],
   "source": [
    "li = [\"Tom\", \"Dick\", 3]\n",
    "print(li[0])"
   ]
  },
  {
   "source": [
    "for i in li:\n",
    "    print(i)"
   ],
   "cell_type": "markdown",
   "metadata": {}
  },
  {
   "cell_type": "code",
   "execution_count": 50,
   "metadata": {},
   "outputs": [
    {
     "output_type": "execute_result",
     "data": {
      "text/plain": [
       "2.5"
      ]
     },
     "metadata": {},
     "execution_count": 50
    }
   ],
   "source": [
    "Create a function avg_the_list(nl). The parameter nl is a list in which all of the members are numbers. The function is fruitful and it returns the average value of the numbers in the list.\n",
    "\n",
    "Test your function using tl = `[1,2,3,4]`"
   ]
  },
  {
   "source": [
    "\n",
    "def avg_the_list(nl):\n",
    "    total = 0\n",
    "    count = 0\n",
    "    for i in nl:\n",
    "        total += i\n",
    "        count += 1\n",
    "    avg = total / count\n",
    "    return avg\n",
    "\n",
    "tl = [1,2,3,4]\n",
    "avg_the_list(tl)"
   ],
   "cell_type": "markdown",
   "metadata": {}
  },
  {
   "cell_type": "code",
   "execution_count": 57,
   "metadata": {},
   "outputs": [
    {
     "output_type": "execute_result",
     "data": {
      "text/plain": [
       "2.0"
      ]
     },
     "metadata": {},
     "execution_count": 57
    }
   ],
   "source": [
    "Create a function avg_the_odds(nl) by modifying the previous function so that returns the average value of the odd integers in the list. Again, test it using tl = `[1,2,3,4]`."
   ]
  },
  {
   "source": [
    "def avg_the_odds(nl):\n",
    "    total = 0\n",
    "    count = 0\n",
    "    for i in nl:\n",
    "        if i % 2 == 1:\n",
    "            total += i\n",
    "            count += 1\n",
    "    avg = total / count\n",
    "    return avg\n",
    "\n",
    "tl = [1,2,3,4]\n",
    "avg_the_odds(tl)"
   ],
   "cell_type": "markdown",
   "metadata": {}
  },
  {
   "cell_type": "code",
   "execution_count": 66,
   "metadata": {},
   "outputs": [
    {
     "output_type": "execute_result",
     "data": {
      "text/plain": [
       "127"
      ]
     },
     "metadata": {},
     "execution_count": 66
    }
   ],
   "source": [
    "Create a function largest(nl). The parameter nl is a list of numbers. The function returns the largest value in the list. Assume that you can’t assume anything about the numbers in the list. How would you initialize the largest value? Test your function with tl = `[1,-5,16,76,127,4]`"
   ]
  },
  {
   "source": [
    "def largest(nl):\n",
    "    largest = nl[0]\n",
    "    for i in nl:    \n",
    "        if i > largest:\n",
    "            largest = i\n",
    "    return largest\n",
    "\n",
    "tl = [1,-5,16,76,127,4]\n",
    "largest(tl)"
   ],
   "cell_type": "markdown",
   "metadata": {}
  },
  {
   "cell_type": "code",
   "execution_count": 68,
   "metadata": {},
   "outputs": [
    {
     "output_type": "execute_result",
     "data": {
      "text/plain": [
       "-5"
      ]
     },
     "metadata": {},
     "execution_count": 68
    }
   ],
   "source": [
    "Modify largest() to create smallest()."
   ]
  },
  {
   "cell_type": "code",
   "execution_count": null,
   "metadata": {},
   "outputs": [],
   "source": [
    "def smallest(nl):\n",
    "    smallest = nl[0]\n",
    "    for i in nl:    \n",
    "        if i < smallest:\n",
    "            smallest = i\n",
    "    return smallest\n",
    "\n",
    "tl = [1,-5,16,76,127,4]\n",
    "smallest(tl)"
   ]
  }
 ]
}