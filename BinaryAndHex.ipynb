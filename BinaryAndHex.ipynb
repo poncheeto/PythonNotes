{
 "metadata": {
  "language_info": {
   "codemirror_mode": {
    "name": "ipython",
    "version": 3
   },
   "file_extension": ".py",
   "mimetype": "text/x-python",
   "name": "python",
   "nbconvert_exporter": "python",
   "pygments_lexer": "ipython3",
   "version": "3.9.1-final"
  },
  "orig_nbformat": 2,
  "kernelspec": {
   "name": "python3",
   "display_name": "Python 3.9.1 64-bit",
   "metadata": {
    "interpreter": {
     "hash": "bdbbb6732f68ae60e4c34d8feb933a3f64f815aefa2bfc2979a87c07b6b7621b"
    }
   }
  }
 },
 "nbformat": 4,
 "nbformat_minor": 2,
 "cells": [
  {
   "source": [
    "367 in Base 10:\n",
    "3∗10^2+6∗10^1+7∗10^0\n",
    "\n",
    "367 in Base 8:\n",
    "3∗8^2+6∗8^1+7∗8^0"
   ],
   "cell_type": "markdown",
   "metadata": {}
  },
  {
   "cell_type": "code",
   "execution_count": 2,
   "metadata": {},
   "outputs": [
    {
     "output_type": "execute_result",
     "data": {
      "text/plain": [
       "367"
      ]
     },
     "metadata": {},
     "execution_count": 2
    }
   ],
   "source": [
    "# Base 10 \n",
    "3 * 10**2 + 6 * 10**1 + 7 * 10**0"
   ]
  },
  {
   "cell_type": "code",
   "execution_count": 3,
   "metadata": {},
   "outputs": [
    {
     "output_type": "execute_result",
     "data": {
      "text/plain": [
       "247"
      ]
     },
     "metadata": {},
     "execution_count": 3
    }
   ],
   "source": [
    "# Base 10 \n",
    "3 * 8**2 + 6 * 8**1 + 7 * 8**0"
   ]
  },
  {
   "source": [
    "1011 in Base 2: 1∗2^3+0∗2^2+1∗2^1+1∗2^0"
   ],
   "cell_type": "markdown",
   "metadata": {}
  },
  {
   "cell_type": "code",
   "execution_count": 5,
   "metadata": {},
   "outputs": [
    {
     "output_type": "execute_result",
     "data": {
      "text/plain": [
       "11"
      ]
     },
     "metadata": {},
     "execution_count": 5
    }
   ],
   "source": [
    "# Base 10 \n",
    "1 * 2**3 + 0 * 2**2 + 1 * 2**1 + 1 * 2**0"
   ]
  },
  {
   "cell_type": "code",
   "execution_count": 19,
   "metadata": {},
   "outputs": [
    {
     "output_type": "stream",
     "name": "stdout",
     "text": [
      "0b1100\n"
     ]
    }
   ],
   "source": [
    "print(bin(12))"
   ]
  },
  {
   "cell_type": "code",
   "execution_count": 8,
   "metadata": {},
   "outputs": [
    {
     "output_type": "stream",
     "name": "stdout",
     "text": [
      "0xc\n"
     ]
    }
   ],
   "source": [
    "print(hex(12))"
   ]
  },
  {
   "cell_type": "code",
   "execution_count": 13,
   "metadata": {},
   "outputs": [
    {
     "output_type": "stream",
     "name": "stdout",
     "text": [
      "12\n"
     ]
    }
   ],
   "source": [
    "print(int(\"1100\", base=2))"
   ]
  },
  {
   "cell_type": "code",
   "execution_count": 16,
   "metadata": {},
   "outputs": [
    {
     "output_type": "stream",
     "name": "stdout",
     "text": [
      "12\n"
     ]
    }
   ],
   "source": [
    "print(int(\"C\", base=2))\n"
   ]
  },
  {
   "cell_type": "code",
   "execution_count": 11,
   "metadata": {},
   "outputs": [
    {
     "output_type": "stream",
     "name": "stdout",
     "text": [
      "12\n"
     ]
    }
   ],
   "source": [
    "print(int(0xc))"
   ]
  },
  {
   "cell_type": "code",
   "execution_count": 22,
   "metadata": {},
   "outputs": [
    {
     "output_type": "stream",
     "name": "stdout",
     "text": [
      "32\n55\n65\n97\n"
     ]
    }
   ],
   "source": [
    "print(ord(\" \"))\n",
    "print(ord(\"7\"))\n",
    "print(ord(\"A\"))\n",
    "print(ord(\"a\"))"
   ]
  },
  {
   "cell_type": "code",
   "execution_count": 23,
   "metadata": {},
   "outputs": [
    {
     "output_type": "stream",
     "name": "stdout",
     "text": [
      ")\n>\nS\nx\n"
     ]
    }
   ],
   "source": [
    "print(chr(41))\n",
    "print(chr(62))\n",
    "print(chr(83))\n",
    "print(chr(120))"
   ]
  },
  {
   "cell_type": "code",
   "execution_count": 27,
   "metadata": {},
   "outputs": [
    {
     "output_type": "stream",
     "name": "stdout",
     "text": [
      "H 72 0x48\ne 101 0x65\nl 108 0x6c\nl 108 0x6c\no 111 0x6f\n, 44 0x2c\n  32 0x20\nw 119 0x77\no 111 0x6f\nr 114 0x72\nl 108 0x6c\nd 100 0x64\n! 33 0x21\n"
     ]
    }
   ],
   "source": [
    "s = \"Hello, world!\"\n",
    "\n",
    "for i in s:\n",
    "    print(i, ord(i), hex(ord(i)))"
   ]
  }
 ]
}