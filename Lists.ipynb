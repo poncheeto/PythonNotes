{
 "metadata": {
  "language_info": {
   "codemirror_mode": {
    "name": "ipython",
    "version": 3
   },
   "file_extension": ".py",
   "mimetype": "text/x-python",
   "name": "python",
   "nbconvert_exporter": "python",
   "pygments_lexer": "ipython3",
   "version": "3.9.1-final"
  },
  "orig_nbformat": 2,
  "kernelspec": {
   "name": "python3",
   "display_name": "Python 3.9.1 64-bit",
   "metadata": {
    "interpreter": {
     "hash": "bdbbb6732f68ae60e4c34d8feb933a3f64f815aefa2bfc2979a87c07b6b7621b"
    }
   }
  }
 },
 "nbformat": 4,
 "nbformat_minor": 2,
 "cells": [
  {
   "cell_type": "code",
   "execution_count": 2,
   "metadata": {},
   "outputs": [
    {
     "output_type": "stream",
     "name": "stdout",
     "text": [
      "['Alaska', 'Washington', 'Oregon', 'California']\n"
     ]
    }
   ],
   "source": [
    "west_coast = ['Alaska', 'Washington', 'Oregon', 'California']\n",
    "print(west_coast)"
   ]
  },
  {
   "cell_type": "code",
   "execution_count": 3,
   "metadata": {},
   "outputs": [
    {
     "output_type": "stream",
     "name": "stdout",
     "text": [
      "Alaska\nWashington\nOregon\nCalifornia\n"
     ]
    }
   ],
   "source": [
    "for states in west_coast:\n",
    "    print(states)"
   ]
  },
  {
   "cell_type": "code",
   "execution_count": 4,
   "metadata": {},
   "outputs": [
    {
     "output_type": "stream",
     "name": "stdout",
     "text": [
      "Washington\n"
     ]
    }
   ],
   "source": [
    "print(west_coast[1])"
   ]
  },
  {
   "cell_type": "code",
   "execution_count": 6,
   "metadata": {},
   "outputs": [
    {
     "output_type": "stream",
     "name": "stdout",
     "text": [
      "4\n"
     ]
    }
   ],
   "source": [
    "print(len(west_coast))"
   ]
  },
  {
   "cell_type": "code",
   "execution_count": 7,
   "metadata": {},
   "outputs": [
    {
     "output_type": "stream",
     "name": "stdout",
     "text": [
      "range(0, 4)\n"
     ]
    }
   ],
   "source": [
    "print(range(4))"
   ]
  },
  {
   "cell_type": "code",
   "execution_count": 8,
   "metadata": {},
   "outputs": [
    {
     "output_type": "stream",
     "name": "stdout",
     "text": [
      "4\n"
     ]
    }
   ],
   "source": [
    "print(len(range(4)))"
   ]
  },
  {
   "cell_type": "code",
   "execution_count": 9,
   "metadata": {},
   "outputs": [
    {
     "output_type": "stream",
     "name": "stdout",
     "text": [
      "<class 'range'>\n"
     ]
    }
   ],
   "source": [
    "print(type(range(4)))"
   ]
  },
  {
   "cell_type": "code",
   "execution_count": 10,
   "metadata": {},
   "outputs": [
    {
     "output_type": "stream",
     "name": "stdout",
     "text": [
      "['Florida', 'Georgia', 'South Carolina']\n"
     ]
    }
   ],
   "source": [
    "opposite_corner = ['Florida', 'Georgia', 'South Carolina']\n",
    "print(opposite_corner)"
   ]
  },
  {
   "cell_type": "code",
   "execution_count": 11,
   "metadata": {},
   "outputs": [
    {
     "output_type": "stream",
     "name": "stdout",
     "text": [
      "['Alaska', 'Washington', 'Oregon', 'California', 'Florida', 'Georgia', 'South Carolina']\n"
     ]
    }
   ],
   "source": [
    "corners = west_coast + opposite_corner\n",
    "print(corners)"
   ]
  },
  {
   "cell_type": "code",
   "execution_count": 18,
   "metadata": {},
   "outputs": [
    {
     "output_type": "stream",
     "name": "stdout",
     "text": [
      "['Alaska', 'Washington', 'Oregon', 'California', 'Florida', 'Georgia', 'South Carolina', 'North Carolina']\n"
     ]
    }
   ],
   "source": [
    "corners.append('North Carolina')\n",
    "print(corners)"
   ]
  },
  {
   "cell_type": "code",
   "execution_count": 25,
   "metadata": {},
   "outputs": [
    {
     "output_type": "stream",
     "name": "stdout",
     "text": [
      "['Alaska', 'Washington', 'Oregon', 'California', 'Alabama', 'Florida', 'Georgia', 'South Carolina', 'North Carolina']\n"
     ]
    }
   ],
   "source": [
    "corners.insert(4, 'Alabama')\n",
    "print(corners)"
   ]
  },
  {
   "cell_type": "code",
   "execution_count": 28,
   "metadata": {},
   "outputs": [
    {
     "output_type": "stream",
     "name": "stdout",
     "text": [
      "True True True\nTrue True False\nTrue False True\nTrue False False\nFalse True True\nFalse True False\nFalse False True\nFalse False False\n"
     ]
    }
   ],
   "source": [
    "truth_values = [True, False]\n",
    "\n",
    "for p in truth_values:\n",
    "    for q in truth_values:\n",
    "        for r in truth_values:\n",
    "            print(p, q, r)"
   ]
  },
  {
   "cell_type": "code",
   "execution_count": 5,
   "metadata": {},
   "outputs": [
    {
     "output_type": "stream",
     "name": "stdout",
     "text": [
      "12\n"
     ]
    }
   ],
   "source": [
    "import random\n",
    "\n",
    "print(random.randint(0, 100))"
   ]
  },
  {
   "cell_type": "code",
   "execution_count": 8,
   "metadata": {},
   "outputs": [
    {
     "output_type": "stream",
     "name": "stdout",
     "text": [
      "[92, 47, 26, 6, 30, 1, 43, 39, 55, 94, 35, 85, 59, 4, 100, 97, 15, 41, 99, 16]\n"
     ]
    }
   ],
   "source": [
    "numlist = list()\n",
    "\n",
    "num = 0\n",
    "count = 0\n",
    "\n",
    "while count < 20:\n",
    "    rando = random.randint(0, 100)\n",
    "    numlist.append(rando)\n",
    "    count += 1\n",
    "\n",
    "print(numlist)"
   ]
  },
  {
   "cell_type": "code",
   "execution_count": 10,
   "metadata": {},
   "outputs": [
    {
     "output_type": "stream",
     "name": "stdout",
     "text": [
      "[1, 4, 6, 15, 16, 26, 30, 35, 39, 41, 43, 47, 55, 59, 85, 92, 94, 97, 99, 100]\n"
     ]
    }
   ],
   "source": [
    "numlist.sort()\n",
    "print(numlist)"
   ]
  },
  {
   "cell_type": "code",
   "execution_count": 11,
   "metadata": {},
   "outputs": [
    {
     "output_type": "stream",
     "name": "stdout",
     "text": [
      "None\n"
     ]
    }
   ],
   "source": [
    "sorted_list = numlist.sort()\n",
    "print(sorted_list)"
   ]
  },
  {
   "cell_type": "code",
   "execution_count": 12,
   "metadata": {},
   "outputs": [
    {
     "output_type": "stream",
     "name": "stdout",
     "text": [
      "None\n"
     ]
    }
   ],
   "source": [
    "bigger = numlist.append(150)\n",
    "print(bigger)"
   ]
  },
  {
   "cell_type": "code",
   "execution_count": 13,
   "metadata": {},
   "outputs": [
    {
     "output_type": "stream",
     "name": "stdout",
     "text": [
      "[1, 4, 6, 15, 16, 26, 30, 35, 39, 41, 43, 47, 55, 59, 85, 92, 94, 97, 99, 100, 150]\n"
     ]
    }
   ],
   "source": [
    "print(numlist)"
   ]
  },
  {
   "cell_type": "code",
   "execution_count": 6,
   "metadata": {},
   "outputs": [
    {
     "output_type": "stream",
     "name": "stdout",
     "text": [
      "3\n"
     ]
    }
   ],
   "source": [
    "def how_many_a_in_li(a, li):\n",
    "    if a in li:\n",
    "        return li.count(a)\n",
    "\n",
    "print(how_many_a_in_li(1, (list(range(5)) * 3)))\n"
   ]
  },
  {
   "cell_type": "code",
   "execution_count": 7,
   "metadata": {},
   "outputs": [
    {
     "output_type": "stream",
     "name": "stdout",
     "text": [
      "4\n"
     ]
    }
   ],
   "source": [
    "mary_list = list('Mary had a little lamb')\n",
    "# print(mary_list)\n",
    "\n",
    "print(how_many_a_in_li('a', mary_list))"
   ]
  },
  {
   "cell_type": "code",
   "execution_count": 9,
   "metadata": {},
   "outputs": [
    {
     "output_type": "stream",
     "name": "stdout",
     "text": [
      "4\n"
     ]
    }
   ],
   "source": [
    "print(how_many_a_in_li('a', 'Mary had a little lamb'))"
   ]
  },
  {
   "cell_type": "code",
   "execution_count": 5,
   "metadata": {},
   "outputs": [
    {
     "output_type": "stream",
     "name": "stdout",
     "text": [
      "[1, 2, 3, 4, 4, 5, 6, 7]\n[1, 2, 3, 4, [4, 5, 6, 7], [4, 5, 6, 7]]\nNone\n"
     ]
    }
   ],
   "source": [
    "list1 = [1, 2, 3, 4]\n",
    "list2 = [4, 5, 6, 7]\n",
    "\n",
    "list3 = list1 + list2\n",
    "list1.append(list2)\n",
    "list4 = list1.append(list2)\n",
    "\n",
    "print(list3)\n",
    "print(list1)\n",
    "print(list4)"
   ]
  },
  {
   "cell_type": "code",
   "execution_count": 6,
   "metadata": {},
   "outputs": [
    {
     "output_type": "stream",
     "name": "stdout",
     "text": [
      "6\n"
     ]
    }
   ],
   "source": [
    "print(len(list1))"
   ]
  },
  {
   "cell_type": "code",
   "execution_count": 7,
   "metadata": {},
   "outputs": [
    {
     "output_type": "execute_result",
     "data": {
      "text/plain": [
       "[12, 1, 2, 4, 5, 3]"
      ]
     },
     "metadata": {},
     "execution_count": 7
    }
   ],
   "source": [
    "def undup(l):\n",
    "    output = list()\n",
    "    \n",
    "    for i in l:\n",
    "        if i not in output:\n",
    "            output.append(i)\n",
    "        \n",
    "    return output\n",
    "\n",
    "undup([12, 1, 2, 4, 5, 4, 12, 5, 3])"
   ]
  },
  {
   "cell_type": "code",
   "execution_count": 20,
   "metadata": {},
   "outputs": [
    {
     "output_type": "execute_result",
     "data": {
      "text/plain": [
       "[9, 48, 5.333333333333333]"
      ]
     },
     "metadata": {},
     "execution_count": 20
    }
   ],
   "source": [
    "def numres(nl):\n",
    "    sum = 0\n",
    "\n",
    "    for i in nl:\n",
    "        sum += i\n",
    "    mean = sum / len(nl)\n",
    "    return [len(nl), sum, mean]\n",
    "\n",
    "numres([12, 1, 2, 4, 5, 4, 12, 5, 3])"
   ]
  },
  {
   "cell_type": "code",
   "execution_count": 21,
   "metadata": {},
   "outputs": [
    {
     "output_type": "stream",
     "name": "stdout",
     "text": [
      "[1, ['a', 'b', ['x', 'y']]]\n"
     ]
    }
   ],
   "source": [
    "xlist = [1, [\"a\", \"b\", [\"x\", \"y\"]]]\n",
    "print(xlist)"
   ]
  },
  {
   "cell_type": "code",
   "execution_count": 22,
   "metadata": {},
   "outputs": [
    {
     "output_type": "stream",
     "name": "stdout",
     "text": [
      "1\n"
     ]
    }
   ],
   "source": [
    "print(xlist[0])"
   ]
  },
  {
   "cell_type": "code",
   "execution_count": 30,
   "metadata": {},
   "outputs": [
    {
     "output_type": "stream",
     "name": "stdout",
     "text": [
      "b\n"
     ]
    }
   ],
   "source": [
    "print(xlist[1][1])"
   ]
  },
  {
   "cell_type": "code",
   "execution_count": 35,
   "metadata": {},
   "outputs": [
    {
     "output_type": "stream",
     "name": "stdout",
     "text": [
      "y\n"
     ]
    }
   ],
   "source": [
    "print(xlist[1][2][1])"
   ]
  },
  {
   "cell_type": "code",
   "execution_count": null,
   "metadata": {},
   "outputs": [],
   "source": []
  }
 ]
}