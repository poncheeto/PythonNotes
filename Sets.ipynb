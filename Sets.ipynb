{
 "metadata": {
  "language_info": {
   "codemirror_mode": {
    "name": "ipython",
    "version": 3
   },
   "file_extension": ".py",
   "mimetype": "text/x-python",
   "name": "python",
   "nbconvert_exporter": "python",
   "pygments_lexer": "ipython3",
   "version": "3.9.1-final"
  },
  "orig_nbformat": 2,
  "kernelspec": {
   "name": "python3",
   "display_name": "Python 3.9.1 64-bit",
   "metadata": {
    "interpreter": {
     "hash": "bdbbb6732f68ae60e4c34d8feb933a3f64f815aefa2bfc2979a87c07b6b7621b"
    }
   }
  }
 },
 "nbformat": 4,
 "nbformat_minor": 2,
 "cells": [
  {
   "cell_type": "code",
   "execution_count": 13,
   "metadata": {},
   "outputs": [
    {
     "output_type": "stream",
     "name": "stdout",
     "text": [
      "{'Physics', 'History', 'CompSci', 'Math'}\n"
     ]
    }
   ],
   "source": [
    "cs_courses = {'History', 'Math', 'Physics', 'CompSci'}\n",
    "\n",
    "print(cs_courses)"
   ]
  },
  {
   "cell_type": "code",
   "execution_count": 14,
   "metadata": {},
   "outputs": [
    {
     "output_type": "stream",
     "name": "stdout",
     "text": [
      "{'Physics', 'History', 'CompSci', 'Math'}\n"
     ]
    }
   ],
   "source": [
    "cs_courses = {'History', 'Math', 'Physics', 'CompSci', 'Math'}\n",
    "\n",
    "print(cs_courses)"
   ]
  },
  {
   "cell_type": "code",
   "execution_count": 15,
   "metadata": {},
   "outputs": [
    {
     "output_type": "stream",
     "name": "stdout",
     "text": [
      "True\n"
     ]
    }
   ],
   "source": [
    "cs_courses = {'History', 'Math', 'Physics', 'CompSci', 'Math'}\n",
    "\n",
    "print('Math' in cs_courses)"
   ]
  },
  {
   "cell_type": "code",
   "execution_count": 16,
   "metadata": {},
   "outputs": [
    {
     "output_type": "stream",
     "name": "stdout",
     "text": [
      "{'History', 'Math'}\n"
     ]
    }
   ],
   "source": [
    "cs_courses = {'History', 'Math', 'Physics', 'CompSci'}\n",
    "art_courses = {'History', 'Math', 'Art', 'Design'}\n",
    "\n",
    "print(cs_courses.intersection(art_courses))"
   ]
  },
  {
   "cell_type": "code",
   "execution_count": 17,
   "metadata": {},
   "outputs": [
    {
     "output_type": "stream",
     "name": "stdout",
     "text": [
      "{'Physics', 'CompSci'}\n"
     ]
    }
   ],
   "source": [
    "cs_courses = {'History', 'Math', 'Physics', 'CompSci'}\n",
    "art_courses = {'History', 'Math', 'Art', 'Design'}\n",
    "\n",
    "print(cs_courses.difference(art_courses))"
   ]
  },
  {
   "cell_type": "code",
   "execution_count": 18,
   "metadata": {},
   "outputs": [
    {
     "output_type": "stream",
     "name": "stdout",
     "text": [
      "{'CompSci', 'Physics', 'Design', 'Math', 'Art', 'History'}\n"
     ]
    }
   ],
   "source": [
    "cs_courses = {'History', 'Math', 'Physics', 'CompSci'}\n",
    "art_courses = {'History', 'Math', 'Art', 'Design'}\n",
    "\n",
    "print(cs_courses.union(art_courses))"
   ]
  },
  {
   "cell_type": "code",
   "execution_count": null,
   "metadata": {},
   "outputs": [],
   "source": []
  }
 ]
}