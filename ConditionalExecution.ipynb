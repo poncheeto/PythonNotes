{
 "metadata": {
  "language_info": {
   "codemirror_mode": {
    "name": "ipython",
    "version": 3
   },
   "file_extension": ".py",
   "mimetype": "text/x-python",
   "name": "python",
   "nbconvert_exporter": "python",
   "pygments_lexer": "ipython3",
   "version": "3.9.1-final"
  },
  "orig_nbformat": 2,
  "kernelspec": {
   "name": "python3",
   "display_name": "Python 3.9.1 64-bit",
   "metadata": {
    "interpreter": {
     "hash": "bdbbb6732f68ae60e4c34d8feb933a3f64f815aefa2bfc2979a87c07b6b7621b"
    }
   }
  }
 },
 "nbformat": 4,
 "nbformat_minor": 2,
 "cells": [
  {
   "source": [
    "## Boolean Expressions"
   ],
   "cell_type": "markdown",
   "metadata": {}
  },
  {
   "source": [
    "Ex 1"
   ],
   "cell_type": "markdown",
   "metadata": {}
  },
  {
   "cell_type": "code",
   "execution_count": 2,
   "metadata": {},
   "outputs": [
    {
     "output_type": "execute_result",
     "data": {
      "text/plain": [
       "True"
      ]
     },
     "metadata": {},
     "execution_count": 2
    }
   ],
   "source": [
    "4 == 2 * 2"
   ]
  },
  {
   "source": [
    "Ex 2"
   ],
   "cell_type": "markdown",
   "metadata": {}
  },
  {
   "cell_type": "code",
   "execution_count": 3,
   "metadata": {},
   "outputs": [
    {
     "output_type": "execute_result",
     "data": {
      "text/plain": [
       "True"
      ]
     },
     "metadata": {},
     "execution_count": 3
    }
   ],
   "source": [
    "3 < 4"
   ]
  },
  {
   "source": [
    "Ex 3"
   ],
   "cell_type": "markdown",
   "metadata": {}
  },
  {
   "cell_type": "code",
   "execution_count": 4,
   "metadata": {},
   "outputs": [
    {
     "output_type": "execute_result",
     "data": {
      "text/plain": [
       "True"
      ]
     },
     "metadata": {},
     "execution_count": 4
    }
   ],
   "source": [
    "3 <= 4"
   ]
  },
  {
   "source": [
    "Ex 4"
   ],
   "cell_type": "markdown",
   "metadata": {}
  },
  {
   "cell_type": "code",
   "execution_count": 5,
   "metadata": {},
   "outputs": [
    {
     "output_type": "execute_result",
     "data": {
      "text/plain": [
       "True"
      ]
     },
     "metadata": {},
     "execution_count": 5
    }
   ],
   "source": [
    "3 != 4"
   ]
  },
  {
   "source": [
    "Ex 5"
   ],
   "cell_type": "markdown",
   "metadata": {}
  },
  {
   "source": [
    "The remainder after dividing 12 by 2 is zero. Say this in python instead of English."
   ],
   "cell_type": "markdown",
   "metadata": {}
  },
  {
   "cell_type": "code",
   "execution_count": 7,
   "metadata": {},
   "outputs": [
    {
     "output_type": "execute_result",
     "data": {
      "text/plain": [
       "True"
      ]
     },
     "metadata": {},
     "execution_count": 7
    }
   ],
   "source": [
    "12 % 2 == 0"
   ]
  },
  {
   "source": [
    "## Boolean Operators"
   ],
   "cell_type": "markdown",
   "metadata": {}
  },
  {
   "source": [
    "Bo 1"
   ],
   "cell_type": "markdown",
   "metadata": {}
  },
  {
   "cell_type": "code",
   "execution_count": 8,
   "metadata": {},
   "outputs": [
    {
     "output_type": "execute_result",
     "data": {
      "text/plain": [
       "False"
      ]
     },
     "metadata": {},
     "execution_count": 8
    }
   ],
   "source": [
    "3 < 4 and 3 > 4"
   ]
  },
  {
   "source": [
    "Bo 2"
   ],
   "cell_type": "markdown",
   "metadata": {}
  },
  {
   "cell_type": "code",
   "execution_count": 9,
   "metadata": {},
   "outputs": [
    {
     "output_type": "execute_result",
     "data": {
      "text/plain": [
       "True"
      ]
     },
     "metadata": {},
     "execution_count": 9
    }
   ],
   "source": [
    "3 < 4 or 3 > 4"
   ]
  },
  {
   "source": [
    "Bo 3"
   ],
   "cell_type": "markdown",
   "metadata": {}
  },
  {
   "cell_type": "code",
   "execution_count": 10,
   "metadata": {},
   "outputs": [
    {
     "output_type": "execute_result",
     "data": {
      "text/plain": [
       "True"
      ]
     },
     "metadata": {},
     "execution_count": 10
    }
   ],
   "source": [
    "3 < 4 or not (3 > 4)"
   ]
  },
  {
   "source": [
    "Bo 4"
   ],
   "cell_type": "markdown",
   "metadata": {}
  },
  {
   "cell_type": "code",
   "execution_count": 11,
   "metadata": {},
   "outputs": [
    {
     "output_type": "execute_result",
     "data": {
      "text/plain": [
       "False"
      ]
     },
     "metadata": {},
     "execution_count": 11
    }
   ],
   "source": [
    "not (3 < 4 or not(3 > 4))"
   ]
  },
  {
   "source": [
    "### if alone"
   ],
   "cell_type": "markdown",
   "metadata": {}
  },
  {
   "source": [
    "Combo1"
   ],
   "cell_type": "markdown",
   "metadata": {}
  },
  {
   "cell_type": "code",
   "execution_count": 12,
   "metadata": {},
   "outputs": [
    {
     "output_type": "stream",
     "name": "stdout",
     "text": [
      "Point A\nPoint B\nPoint C\nPoint D\n"
     ]
    }
   ],
   "source": [
    "cond1 = True\n",
    "cond2 = True\n",
    "if cond1:\n",
    "\n",
    "    print(\"Point A\")\n",
    "    if cond2:\n",
    "    \n",
    "        print(\"Point B\")\n",
    "        \n",
    "    print(\"Point C\")    \n",
    "        \n",
    "print(\"Point D\")    "
   ]
  },
  {
   "source": [
    "Combo2"
   ],
   "cell_type": "markdown",
   "metadata": {}
  },
  {
   "cell_type": "code",
   "execution_count": 13,
   "metadata": {},
   "outputs": [
    {
     "output_type": "stream",
     "name": "stdout",
     "text": [
      "Point A\nPoint C\nPoint D\n"
     ]
    }
   ],
   "source": [
    "cond1 = True\n",
    "cond2 = False\n",
    "if cond1:\n",
    "\n",
    "    print(\"Point A\")\n",
    "    if cond2:\n",
    "    \n",
    "        print(\"Point B\")\n",
    "        \n",
    "    print(\"Point C\")    \n",
    "        \n",
    "print(\"Point D\")    "
   ]
  },
  {
   "source": [
    "Combo3"
   ],
   "cell_type": "markdown",
   "metadata": {}
  },
  {
   "cell_type": "code",
   "execution_count": 14,
   "metadata": {},
   "outputs": [
    {
     "output_type": "stream",
     "name": "stdout",
     "text": [
      "Point D\n"
     ]
    }
   ],
   "source": [
    "cond1 = False\n",
    "cond2 = True\n",
    "if cond1:\n",
    "\n",
    "    print(\"Point A\")\n",
    "    if cond2:\n",
    "    \n",
    "        print(\"Point B\")\n",
    "        \n",
    "    print(\"Point C\")    \n",
    "        \n",
    "print(\"Point D\")    "
   ]
  },
  {
   "source": [
    "Combo4"
   ],
   "cell_type": "markdown",
   "metadata": {}
  },
  {
   "cell_type": "code",
   "execution_count": 17,
   "metadata": {},
   "outputs": [
    {
     "output_type": "stream",
     "name": "stdout",
     "text": [
      "Point D\n"
     ]
    }
   ],
   "source": [
    "cond1 = False\n",
    "cond2 = False\n",
    "if cond1:\n",
    "\n",
    "    print(\"Point A\")\n",
    "    if cond2:\n",
    "    \n",
    "        print(\"Point B\")\n",
    "        \n",
    "    print(\"Point C\")    \n",
    "        \n",
    "print(\"Point D\")    "
   ]
  },
  {
   "source": [
    "### if + else"
   ],
   "cell_type": "markdown",
   "metadata": {}
  },
  {
   "source": [
    "Combo1"
   ],
   "cell_type": "markdown",
   "metadata": {}
  },
  {
   "cell_type": "code",
   "execution_count": 18,
   "metadata": {},
   "outputs": [
    {
     "output_type": "stream",
     "name": "stdout",
     "text": [
      "Point A\nPoint C\n"
     ]
    }
   ],
   "source": [
    "cond1 = True\n",
    "if cond1:\n",
    "\n",
    "    print(\"Point A\")\n",
    "    \n",
    "else:\n",
    "\n",
    "    print(\"Point B\")\n",
    "    \n",
    "print(\"Point C\")   "
   ]
  },
  {
   "source": [
    "Combo2"
   ],
   "cell_type": "markdown",
   "metadata": {}
  },
  {
   "cell_type": "code",
   "execution_count": 19,
   "metadata": {},
   "outputs": [
    {
     "output_type": "stream",
     "name": "stdout",
     "text": [
      "Point B\nPoint C\n"
     ]
    }
   ],
   "source": [
    "cond1 = False\n",
    "if cond1:\n",
    "\n",
    "    print(\"Point A\")\n",
    "    \n",
    "else:\n",
    "\n",
    "    print(\"Point B\")\n",
    "    \n",
    "print(\"Point C\")   "
   ]
  },
  {
   "source": [
    "### if + elif"
   ],
   "cell_type": "markdown",
   "metadata": {}
  },
  {
   "source": [
    "*8 possible combinations with 3 logical variables *"
   ],
   "cell_type": "markdown",
   "metadata": {}
  },
  {
   "cell_type": "code",
   "execution_count": 21,
   "metadata": {},
   "outputs": [
    {
     "output_type": "stream",
     "name": "stdout",
     "text": [
      "Point A\nPoint D\n"
     ]
    }
   ],
   "source": [
    "cond1 = True\n",
    "cond2 = True\n",
    "cond3 = True\n",
    "\n",
    "if cond1:\n",
    "\n",
    "    print(\"Point A\")\n",
    "    \n",
    "elif cond2:\n",
    "\n",
    "    print(\"Point B\")\n",
    "    \n",
    "elif cond3:\n",
    "\n",
    "    print(\"Point C\")\n",
    "    \n",
    "print(\"Point D\")  "
   ]
  },
  {
   "source": [
    "### if + elif + else"
   ],
   "cell_type": "markdown",
   "metadata": {}
  },
  {
   "cell_type": "code",
   "execution_count": 23,
   "metadata": {},
   "outputs": [
    {
     "output_type": "stream",
     "name": "stdout",
     "text": [
      "Point A\nPoint E\n"
     ]
    }
   ],
   "source": [
    "cond1 = True\n",
    "cond2 = True\n",
    "cond3 = True\n",
    "\n",
    "if cond1:\n",
    "\n",
    "    print(\"Point A\")\n",
    "    \n",
    "elif cond2:\n",
    "\n",
    "    print(\"Point B\")\n",
    "    \n",
    "elif cond3:\n",
    "\n",
    "    print(\"Point C\")\n",
    "    \n",
    "else:\n",
    "\n",
    "    print(\"Point D\")\n",
    "    \n",
    "print(\"Point E\")  "
   ]
  }
 ]
}